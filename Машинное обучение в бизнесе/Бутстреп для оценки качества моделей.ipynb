{
 "cells": [
  {
   "cell_type": "markdown",
   "metadata": {},
   "source": [
    "1"
   ]
  },
  {
   "cell_type": "code",
   "execution_count": 2,
   "metadata": {},
   "outputs": [
    {
     "name": "stdout",
     "output_type": "stream",
     "text": [
      "2000\n"
     ]
    }
   ],
   "source": [
    "import pandas as pd\n",
    "\n",
    "def revenue(target, probabilities, count):\n",
    "    probs_sorted = probabilities.sort_values(ascending=False)\n",
    "    selected = target[probs_sorted.index][:count]\n",
    "    # return selected\n",
    "    return 1000 * sum(selected) \n",
    "\n",
    "target = pd.Series([1,   1,   0,   0,  1,    0])\n",
    "probab = pd.Series([0.2, 0.9, 0.8, 0.3, 0.5, 0.1])\n",
    "\n",
    "res = revenue(target, probab, 3)\n",
    "\n",
    "print(res)"
   ]
  },
  {
   "cell_type": "markdown",
   "metadata": {},
   "source": [
    "2"
   ]
  },
  {
   "cell_type": "code",
   "execution_count": 22,
   "metadata": {},
   "outputs": [
    {
     "name": "stdout",
     "output_type": "stream",
     "text": [
      "Средняя выручка: 9270.0\n",
      "1%-квантиль: 6000.0\n"
     ]
    }
   ],
   "source": [
    "import pandas as pd\n",
    "import numpy as np\n",
    "from typing import Iterable\n",
    "\n",
    "# открываем файлы\n",
    "# возьмём индекс '0', чтобы перевести данные в pd.Series\n",
    "target = pd.read_csv('eng_target.csv')['0']\n",
    "probabilities = pd.read_csv('eng_probabilities.csv')['0']\n",
    "\n",
    "def revenue(target:Iterable[any], probabilities:Iterable[any], count:int)->int:\n",
    "    probs_sorted = probabilities.sort_values(ascending=False).index\n",
    "    selected = target.loc[probs_sorted[:count]]\n",
    "    return 1000 * selected.sum()\n",
    "\n",
    "state = np.random.RandomState(12345)\n",
    "quant = 0.01\n",
    "\n",
    "target_probs = pd.concat([target, probabilities], axis=1)\n",
    "\n",
    "values = []\n",
    "for i in range(1000):\n",
    "    \n",
    "    sample_target_probs = target_probs.sample(n=25,replace=True,random_state=state)\n",
    "    sample_prob =sample_target_probs.iloc[:, 1] \n",
    "    sample_tar = sample_target_probs.iloc[:, 0]\n",
    "\n",
    "    predict = revenue(sample_tar,sample_prob,10) \n",
    "    \n",
    "    values.append(int(predict))\n",
    "\n",
    "\n",
    "values = pd.Series(values)\n",
    "lower = values.quantile(quant)\n",
    "\n",
    "mean = values.mean()\n",
    "print(\"Средняя выручка:\", mean)\n",
    "print(\"1%-квантиль:\", lower)"
   ]
  },
  {
   "cell_type": "markdown",
   "metadata": {},
   "source": [
    "3"
   ]
  },
  {
   "cell_type": "code",
   "execution_count": null,
   "metadata": {},
   "outputs": [
    {
     "name": "stdout",
     "output_type": "stream",
     "text": [
      "0       8000\n",
      "1      10000\n",
      "2       8000\n",
      "3      10000\n",
      "4       8000\n",
      "       ...  \n",
      "995     9000\n",
      "996    11000\n",
      "997     9000\n",
      "998    10000\n",
      "999     9000\n",
      "Length: 1000, dtype: int64\n",
      "Средняя выручка: 9270.0\n",
      "1%-квантиль: 6000.0\n"
     ]
    }
   ],
   "source": [
    "import pandas as pd\n",
    "import numpy as np\n",
    "from typing import Iterable\n",
    "\n",
    "\n",
    "\n",
    "# открываем файлы\n",
    "# возьмём индекс '0', чтобы перевести данные в pd.Series\n",
    "target = pd.read_csv('eng_target.csv')['0']\n",
    "probabilities = pd.read_csv('eng_probabilities.csv')['0']\n",
    "\n",
    "\n",
    "\n",
    "def revenue(target:Iterable[any], probabilities:Iterable[any], count:int)->int:\n",
    "    probs_sorted = probabilities.sort_values(ascending=False).index\n",
    "    selected = target.loc[probs_sorted[:count]]\n",
    "    return 1000 * selected.sum()\n",
    "\n",
    "\n",
    "state = np.random.RandomState(12345)\n",
    "quant = 0.01\n",
    "\n",
    "\n",
    "values = []\n",
    "for i in range(1000):\n",
    "    sample_tar = target.sample(n=25,replace=True,random_state=state)\n",
    "    \n",
    "    sample_prob = probabilities[sample_tar.index]\n",
    "\n",
    "    predict = revenue(sample_tar,sample_prob,10) \n",
    "    \n",
    "    values.append(predict)\n",
    "\n",
    "\n",
    "values = pd.Series(values)\n",
    "lower = values.quantile(quant)\n",
    "\n",
    "mean = values.mean()\n",
    "print(\"Средняя выручка:\", mean)\n",
    "print(\"1%-квантиль:\", lower)"
   ]
  }
 ],
 "metadata": {
  "kernelspec": {
   "display_name": ".venv",
   "language": "python",
   "name": "python3"
  },
  "language_info": {
   "codemirror_mode": {
    "name": "ipython",
    "version": 3
   },
   "file_extension": ".py",
   "mimetype": "text/x-python",
   "name": "python",
   "nbconvert_exporter": "python",
   "pygments_lexer": "ipython3",
   "version": "3.12.6"
  }
 },
 "nbformat": 4,
 "nbformat_minor": 2
}
