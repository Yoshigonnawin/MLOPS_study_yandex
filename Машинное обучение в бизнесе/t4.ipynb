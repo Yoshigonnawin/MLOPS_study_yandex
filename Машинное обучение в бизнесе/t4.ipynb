{
 "cells": [
  {
   "cell_type": "code",
   "execution_count": null,
   "metadata": {},
   "outputs": [
    {
     "name": "stdout",
     "output_type": "stream",
     "text": [
      "Cреднее до: 396.9714285714286\n",
      "Cреднее после: 470.5285714285714\n"
     ]
    }
   ],
   "source": [
    "import pandas as pd\n",
    "from scipy import stats as st\n",
    "\n",
    "sample_before = pd.Series([\n",
    "    436, 397, 433, 412, 367, 353, 440, 375, 414, \n",
    "    410, 434, 356, 377, 403, 434, 377, 437, 383,\n",
    "    388, 412, 350, 392, 354, 362, 392, 441, 371, \n",
    "    350, 364, 449, 413, 401, 382, 445, 366, 435,\n",
    "    442, 413, 386, 390, 350, 364, 418, 369, 369, \n",
    "    368, 429, 388, 397, 393, 373, 438, 385, 365,\n",
    "    447, 408, 379, 411, 358, 368, 442, 366, 431,\n",
    "    400, 449, 422, 423, 427, 361, 354])\n",
    "\n",
    "sample_after = pd.Series([\n",
    "    439, 518, 452, 505, 493, 470, 498, 442, 497, \n",
    "    423, 524, 442, 459, 452, 463, 488, 497, 500,\n",
    "    476, 501, 456, 425, 438, 435, 516, 453, 505, \n",
    "    441, 477, 469, 497, 502, 442, 449, 465, 429,\n",
    "    442, 472, 466, 431, 490, 475, 447, 435, 482, \n",
    "    434, 525, 510, 494, 493, 495, 499, 455, 464,\n",
    "    509, 432, 476, 438, 512, 423, 428, 499, 492, \n",
    "    493, 467, 493, 468, 420, 513, 427])\n",
    "\n",
    "# print(\"Cреднее до:\", pd.DataFrame(sample_before).mean(axis=0))# < напишите код здесь >)\n",
    "\n",
    "print(\"Cреднее до:\", sample_before.mean())# < напишите код здесь >)\n",
    "\n",
    "print(\"Cреднее после:\", sample_after.mean())# < напишите код здесь >)\n",
    "\n"
   ]
  },
  {
   "cell_type": "code",
   "execution_count": 11,
   "metadata": {},
   "outputs": [
    {
     "data": {
      "text/plain": [
       "np.float64(6.181958220818264e-29)"
      ]
     },
     "execution_count": 11,
     "metadata": {},
     "output_type": "execute_result"
    }
   ],
   "source": [
    "results = st.ttest_ind(sample_after,sample_before)\n"
   ]
  },
  {
   "cell_type": "code",
   "execution_count": 12,
   "metadata": {},
   "outputs": [
    {
     "name": "stdout",
     "output_type": "stream",
     "text": [
      "p-значение:  6.181958220818264e-29\n",
      "Отвергаем нулевую гипотезу: скорее всего средний чек увеличился\n"
     ]
    }
   ],
   "source": [
    "# критический уровень статистической значимости\n",
    "# если p-value окажется меньше него - отвергнем гипотезу\n",
    "alpha = 0.05# < напишите код здесь >)\n",
    "\n",
    "# тест односторонний: p-value будет в два раза меньше\n",
    "pvalue = results.pvalue/2# < напишите код здесь >)\n",
    "\n",
    "print('p-значение: ', pvalue)\n",
    "\n",
    "if pvalue < alpha:\n",
    "    print(\"Отвергаем нулевую гипотезу: скорее всего средний чек увеличился\")\n",
    "else:\n",
    "    print(\"Не получилось отвергнуть нулевую гипотезу: скорее всего средний чек не увеличился\")"
   ]
  },
  {
   "cell_type": "code",
   "execution_count": 13,
   "metadata": {},
   "outputs": [
    {
     "name": "stdout",
     "output_type": "stream",
     "text": [
      "61.25\n"
     ]
    }
   ],
   "source": [
    "print(7*525/60)"
   ]
  }
 ],
 "metadata": {
  "kernelspec": {
   "display_name": ".venv",
   "language": "python",
   "name": "python3"
  },
  "language_info": {
   "codemirror_mode": {
    "name": "ipython",
    "version": 3
   },
   "file_extension": ".py",
   "mimetype": "text/x-python",
   "name": "python",
   "nbconvert_exporter": "python",
   "pygments_lexer": "ipython3",
   "version": "3.12.6"
  }
 },
 "nbformat": 4,
 "nbformat_minor": 2
}
