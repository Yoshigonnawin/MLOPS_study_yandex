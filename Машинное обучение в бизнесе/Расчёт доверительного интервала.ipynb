{
 "cells": [
  {
   "cell_type": "code",
   "execution_count": 16,
   "metadata": {},
   "outputs": [
    {
     "name": "stdout",
     "output_type": "stream",
     "text": [
      "Cреднее: 470.5285714285714\n",
      "95%-ый доверительный интервал: (np.float64(463.3577536499037), np.float64(477.6993892072391))\n"
     ]
    }
   ],
   "source": [
    "import pandas as pd\n",
    "from scipy import stats as st\n",
    "\n",
    "sample = pd.Series([\n",
    "    439, 518, 452, 505, 493, 470, 498, 442, 497, \n",
    "    423, 524, 442, 459, 452, 463, 488, 497, 500,\n",
    "    476, 501, 456, 425, 438, 435, 516, 453, 505, \n",
    "    441, 477, 469, 497, 502, 442, 449, 465, 429,\n",
    "    442, 472, 466, 431, 490, 475, 447, 435, 482, \n",
    "    434, 525, 510, 494, 493, 495, 499, 455, 464,\n",
    "    509, 432, 476, 438, 512, 423, 428, 499, 492, \n",
    "    493, 467, 493, 468, 420, 513, 427])\n",
    "\n",
    "print(\"Cреднее:\", sample.mean())\n",
    "\n",
    "mean = sample.mean()\n",
    "scale = sample.sem()\n",
    "df = sample.size - 1 \n",
    "alf = 0.95\n",
    "\n",
    "confidence_interval = st.t.interval(\n",
    "    confidence = alf,\n",
    "    df = df,\n",
    "    loc = mean,\n",
    "    scale = scale\n",
    ")\n",
    "\n",
    "\n",
    "print(\"95%-ый доверительный интервал:\", confidence_interval)"
   ]
  }
 ],
 "metadata": {
  "kernelspec": {
   "display_name": ".venv",
   "language": "python",
   "name": "python3"
  },
  "language_info": {
   "codemirror_mode": {
    "name": "ipython",
    "version": 3
   },
   "file_extension": ".py",
   "mimetype": "text/x-python",
   "name": "python",
   "nbconvert_exporter": "python",
   "pygments_lexer": "ipython3",
   "version": "3.12.6"
  }
 },
 "nbformat": 4,
 "nbformat_minor": 2
}
