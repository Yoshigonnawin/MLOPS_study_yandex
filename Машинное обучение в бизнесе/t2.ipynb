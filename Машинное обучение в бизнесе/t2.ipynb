{
 "cells": [
  {
   "cell_type": "code",
   "execution_count": 1,
   "metadata": {},
   "outputs": [],
   "source": [
    "import pandas as pd\n",
    "\n",
    "from sklearn.tree import DecisionTreeClassifier\n",
    "from sklearn.metrics import accuracy_score  # Импортируем метрику для оценки качества\n",
    "\n",
    "data = pd.read_csv('./heart.csv')\n",
    "features = data.drop(['target'], axis=1)\n",
    "target = data['target']\n",
    "\n",
    "scores = []\n",
    "\n",
    "# зададим размер блока, если их всего три\n",
    "sample_size = int(len(data)/3)"
   ]
  },
  {
   "cell_type": "code",
   "execution_count": 3,
   "metadata": {},
   "outputs": [
    {
     "name": "stdout",
     "output_type": "stream",
     "text": [
      "Средняя оценка качества модели: 0.7689768976897691\n"
     ]
    }
   ],
   "source": [
    "for i in range(0, len(data), sample_size):\n",
    "    \n",
    "    valid_indexes = list(range(i,i+sample_size))# < запишите массив из индексов для валидационного блока >\n",
    "    train_indexes = [item for item in range(0, len(data)) if item not in(valid_indexes)]# < запишите массив из индексов для обучающей выборки >\n",
    "    \n",
    "\t\t# разбейте переменные features и target на выборки features_train, target_train, features_valid, target_valid\n",
    "    features_valid = features.loc[valid_indexes] \n",
    "    target_valid = target.loc[valid_indexes]\n",
    "    \n",
    "    features_train = features.loc[train_indexes]\n",
    "    target_train = target.loc[train_indexes]\n",
    "\n",
    "    model = DecisionTreeClassifier(random_state=0)\n",
    "    model = model.fit(features_train, target_train)\n",
    "    \n",
    "    predictions = model.predict(features_valid)\n",
    "    \n",
    "    # Оцениваем качество модели с помощью accuracy (точность)\n",
    "    score = accuracy_score(target_valid, predictions)\n",
    "    \n",
    "    scores.append(score)\n",
    " \n",
    "# < посчитайте среднее качество модели >   \n",
    "final_score = sum(scores)/len(scores)\n",
    "print('Средняя оценка качества модели:', final_score)"
   ]
  }
 ],
 "metadata": {
  "kernelspec": {
   "display_name": ".venv",
   "language": "python",
   "name": "python3"
  },
  "language_info": {
   "codemirror_mode": {
    "name": "ipython",
    "version": 3
   },
   "file_extension": ".py",
   "mimetype": "text/x-python",
   "name": "python",
   "nbconvert_exporter": "python",
   "pygments_lexer": "ipython3",
   "version": "3.12.6"
  }
 },
 "nbformat": 4,
 "nbformat_minor": 2
}
