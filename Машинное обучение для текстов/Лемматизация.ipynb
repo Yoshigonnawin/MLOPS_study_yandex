{
 "cells": [
  {
   "cell_type": "markdown",
   "metadata": {},
   "source": [
    "1"
   ]
  },
  {
   "cell_type": "code",
   "execution_count": 9,
   "metadata": {},
   "outputs": [
    {
     "name": "stdout",
     "output_type": "stream",
     "text": [
      "Исходный текст: @first_timee хоть я и школота, но поверь, у нас то же самое :D общество профилирующий предмет типа)\n",
      "Лемматизированный текст: @ first _ timee   хоть   я   и   школоть ,  но   поверять ,  у   мы   то   же   самый  : D   общество   профилирующий   предмет   тип )\n",
      "\n"
     ]
    }
   ],
   "source": [
    "import pandas as pd\n",
    "# импортируйте класс Mystem из библиотеки pymystem3\n",
    "from pymystem3 import Mystem\n",
    "\n",
    "data = pd.read_csv('tweets.csv')\n",
    "corpus = data['text'].values.astype('U')\n",
    "\n",
    "m = Mystem() \n",
    "\n",
    "strings = m.lemmatize(\"лемматизируй это\") \n",
    "\n",
    "\n",
    "\n",
    "def lemmatize(text):\n",
    "    return ' '.join(m.lemmatize(text))\n",
    "\n",
    "print(\"Исходный текст:\", corpus[0])\n",
    "print(\"Лемматизированный текст:\", lemmatize(corpus[0]))"
   ]
  },
  {
   "cell_type": "markdown",
   "metadata": {},
   "source": [
    "2"
   ]
  },
  {
   "cell_type": "code",
   "execution_count": 22,
   "metadata": {},
   "outputs": [
    {
     "name": "stdout",
     "output_type": "stream",
     "text": [
      "Исходный текст: @first_timee хоть я и школота, но поверь, у нас то же самое :D общество профилирующий предмет типа)\n",
      "Очищенный и лемматизированный текст: хоть   я   и   школоть   но   поверять   у   мы   то   же   самый   общество   профилировать   предмет   тип \n",
      "\n"
     ]
    }
   ],
   "source": [
    "import pandas as pd\n",
    "from pymystem3 import Mystem\n",
    "import re \n",
    "\n",
    "\n",
    "data = pd.read_csv('tweets.csv')\n",
    "corpus = list(data['text'])\n",
    "pat = re.compile(r'[^а-яА-ЯёЁ ]')\n",
    "\n",
    "\n",
    "def lemmatize(text):\n",
    "    m = Mystem()\n",
    "    lemm_list = m.lemmatize(text)\n",
    "    lemm_text = ' '.join(lemm_list)\n",
    "        \n",
    "    return lemm_text\n",
    "\n",
    "\n",
    "def clear_text(text):\n",
    "    c0 = re.sub(pattern=pat, repl=' ', string=text)\n",
    "    \n",
    "    return ' '.join([item for item in(c0.split(' ')) if item])\n",
    "\n",
    "# clear_text(corpus[0])\n",
    "print(\"Исходный текст:\", corpus[0])\n",
    "print(\"Очищенный и лемматизированный текст:\", lemmatize(clear_text(corpus[0])))"
   ]
  },
  {
   "cell_type": "code",
   "execution_count": 24,
   "metadata": {},
   "outputs": [
    {
     "data": {
      "text/plain": [
       "2"
      ]
     },
     "execution_count": 24,
     "metadata": {},
     "output_type": "execute_result"
    }
   ],
   "source": [
    "a= ['ехать', 'Гpека', 'чеpез', 'pека', 'видеть', 'в', 'pак', 'сунуть', 'pука', 'за', 'цап']\n",
    "\n",
    "a.index('видеть')\n",
    "\n",
    "b=[0,1,0,1,1,1,1,0,0,0,0]"
   ]
  }
 ],
 "metadata": {
  "kernelspec": {
   "display_name": ".venv",
   "language": "python",
   "name": "python3"
  },
  "language_info": {
   "codemirror_mode": {
    "name": "ipython",
    "version": 3
   },
   "file_extension": ".py",
   "mimetype": "text/x-python",
   "name": "python",
   "nbconvert_exporter": "python",
   "pygments_lexer": "ipython3",
   "version": "3.12.1"
  }
 },
 "nbformat": 4,
 "nbformat_minor": 2
}
