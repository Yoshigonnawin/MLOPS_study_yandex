{
 "cells": [
  {
   "cell_type": "code",
   "execution_count": 4,
   "metadata": {},
   "outputs": [
    {
     "name": "stdout",
     "output_type": "stream",
     "text": [
      "<Compressed Sparse Row sparse matrix of dtype 'int64'\n",
      "\twith 45117 stored elements and shape (5000, 9345)>\n",
      "  Coords\tValues\n",
      "  (0, 8762)\t1\n",
      "  (0, 9101)\t1\n",
      "  (0, 4507)\t1\n",
      "  (0, 5512)\t1\n",
      "  (0, 4038)\t1\n",
      "  (0, 7944)\t1\n",
      "  (0, 2118)\t1\n",
      "  (0, 6896)\t1\n",
      "  (0, 4708)\t1\n",
      "  (0, 6383)\t1\n",
      "  (0, 6081)\t1\n",
      "  (0, 7923)\t1\n",
      "  (1, 4507)\t1\n",
      "  (1, 1605)\t1\n",
      "  (1, 879)\t2\n",
      "  (1, 7788)\t1\n",
      "  (1, 4839)\t2\n",
      "  (1, 4372)\t1\n",
      "  (1, 5991)\t1\n",
      "  (1, 4068)\t1\n",
      "  (1, 3925)\t1\n",
      "  (1, 3673)\t1\n",
      "  (1, 6489)\t1\n",
      "  (1, 8755)\t1\n",
      "  (2, 4574)\t1\n",
      "  :\t:\n",
      "  (4996, 1132)\t1\n",
      "  (4997, 8276)\t1\n",
      "  (4997, 1113)\t1\n",
      "  (4997, 9244)\t1\n",
      "  (4997, 4100)\t1\n",
      "  (4997, 2603)\t1\n",
      "  (4997, 9099)\t1\n",
      "  (4997, 1447)\t1\n",
      "  (4998, 4288)\t1\n",
      "  (4998, 4670)\t1\n",
      "  (4998, 1567)\t1\n",
      "  (4998, 7824)\t1\n",
      "  (4999, 7944)\t1\n",
      "  (4999, 4068)\t2\n",
      "  (4999, 4434)\t1\n",
      "  (4999, 9006)\t1\n",
      "  (4999, 6482)\t1\n",
      "  (4999, 9240)\t1\n",
      "  (4999, 840)\t1\n",
      "  (4999, 6477)\t1\n",
      "  (4999, 7794)\t1\n",
      "  (4999, 6537)\t1\n",
      "  (4999, 6201)\t1\n",
      "  (4999, 1199)\t1\n",
      "  (4999, 3515)\t1\n"
     ]
    }
   ],
   "source": [
    "import pandas as pd\n",
    "from sklearn.feature_extraction.text import CountVectorizer\n",
    "\n",
    "data = pd.read_csv(\"tweets_lemm.csv\")\n",
    "corpus = data['lemm_text'].values.astype('U')\n",
    "count_vect = CountVectorizer()\n",
    "\n",
    "# bow, от англ. bag of words\n",
    "bow = count_vect.fit_transform(corpus)\n",
    "print(bow)\n",
    "\n",
    "# создайте мешок слов без учёта стоп-слов\n",
    "# < напишите код здесь >\n",
    "\n",
    "# print(\"Размер мешка без учёта стоп-слов:\", bow.shape)\n",
    "\n",
    "# # создайте новый мешок слов с учётом стоп-слов\n",
    "# # < напишите код здесь >\n",
    "\n",
    "# print(\"Размер мешка с учётом стоп-слов:\", bow.shape)"
   ]
  }
 ],
 "metadata": {
  "kernelspec": {
   "display_name": ".venv",
   "language": "python",
   "name": "python3"
  },
  "language_info": {
   "codemirror_mode": {
    "name": "ipython",
    "version": 3
   },
   "file_extension": ".py",
   "mimetype": "text/x-python",
   "name": "python",
   "nbconvert_exporter": "python",
   "pygments_lexer": "ipython3",
   "version": "3.12.1"
  }
 },
 "nbformat": 4,
 "nbformat_minor": 2
}
