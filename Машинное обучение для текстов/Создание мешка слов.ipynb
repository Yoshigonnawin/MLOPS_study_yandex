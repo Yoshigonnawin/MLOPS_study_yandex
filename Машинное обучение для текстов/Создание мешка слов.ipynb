{
 "cells": [
  {
   "cell_type": "code",
   "execution_count": 20,
   "metadata": {},
   "outputs": [
    {
     "name": "stdout",
     "output_type": "stream",
     "text": [
      "Размер мешка без учёта стоп-слов: (5000, 9248)\n",
      "Размер мешка с учётом стоп-слов: (5000, 9345)\n"
     ]
    }
   ],
   "source": [
    "import pandas as pd\n",
    "from sklearn.feature_extraction.text import CountVectorizer\n",
    "from nltk.corpus import stopwords \n",
    "\n",
    "\n",
    "st_words = list(set(stopwords.words('russian')))\n",
    "\n",
    "data = pd.read_csv(\"tweets_lemm.csv\")\n",
    "corpus = data['lemm_text'].values.astype('U')\n",
    "\n",
    "count_vect_st = CountVectorizer(stop_words=st_words)\n",
    "\n",
    "count_vect = CountVectorizer()\n",
    "\n",
    "\n",
    "# создайте мешок слов без учёта стоп-слов\n",
    "bow_st = count_vect_st.fit_transform(corpus)\n",
    "\n",
    "print(\"Размер мешка без учёта стоп-слов:\", bow_st.shape)\n",
    "\n",
    "# # создайте новый мешок слов с учётом стоп-слов\n",
    "bow = count_vect.fit_transform(corpus)\n",
    "\n",
    "print(\"Размер мешка с учётом стоп-слов:\", bow.shape)"
   ]
  }
 ],
 "metadata": {
  "kernelspec": {
   "display_name": ".venv",
   "language": "python",
   "name": "python3"
  },
  "language_info": {
   "codemirror_mode": {
    "name": "ipython",
    "version": 3
   },
   "file_extension": ".py",
   "mimetype": "text/x-python",
   "name": "python",
   "nbconvert_exporter": "python",
   "pygments_lexer": "ipython3",
   "version": "3.12.1"
  }
 },
 "nbformat": 4,
 "nbformat_minor": 2
}
