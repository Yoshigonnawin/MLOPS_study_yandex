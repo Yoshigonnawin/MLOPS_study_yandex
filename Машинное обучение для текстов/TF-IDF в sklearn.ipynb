{
 "cells": [
  {
   "cell_type": "code",
   "execution_count": 2,
   "metadata": {},
   "outputs": [
    {
     "name": "stdout",
     "output_type": "stream",
     "text": [
      "Размер матрицы: (5000, 9248)\n"
     ]
    }
   ],
   "source": [
    "import pandas as pd\n",
    "import nltk\n",
    "from nltk.corpus import stopwords as nltk_stopwords\n",
    "from sklearn.feature_extraction.text import TfidfVectorizer\n",
    "\n",
    "\n",
    "data = pd.read_csv(\"tweets_lemm.csv\")\n",
    "corpus = data['lemm_text'].values.astype('U')\n",
    "\n",
    "stopwords = list(set(nltk_stopwords.words('russian')))\n",
    "\n",
    "count_tf_idf = TfidfVectorizer(stop_words=stopwords)\n",
    "\n",
    "tf_idf = count_tf_idf.fit_transform(corpus)\n",
    "\n",
    "print(\"Размер матрицы:\", tf_idf.shape)"
   ]
  },
  {
   "cell_type": "markdown",
   "metadata": {},
   "source": [
    "2"
   ]
  },
  {
   "cell_type": "code",
   "execution_count": 3,
   "metadata": {},
   "outputs": [
    {
     "name": "stdout",
     "output_type": "stream",
     "text": [
      "0.9468470645083353\n"
     ]
    }
   ],
   "source": [
    "import pandas as pd\n",
    "from nltk.corpus import stopwords as nltk_stopwords\n",
    "from sklearn.feature_extraction.text import TfidfVectorizer\n",
    "from sklearn.metrics import accuracy_score\n",
    "from sklearn.linear_model import LogisticRegression\n",
    "\n",
    "train_data = pd.read_csv('https://code.s3.yandex.net/grade/machine/fake_news_train.csv')\n",
    "test_data = pd.read_csv('https://code.s3.yandex.net/grade/machine/fake_news_test.csv')\n",
    "stopwords = list(set(nltk_stopwords.words('english')))\n",
    "\n",
    "count_tf_idf = TfidfVectorizer(stop_words=stopwords, min_df=5, max_df=0.5)\n",
    "train_tf_idf = count_tf_idf.fit_transform(train_data['text'])\n",
    "test_tf_idf = count_tf_idf.transform(test_data['text'])\n",
    "\n",
    "model = LogisticRegression()\n",
    "model.fit(train_tf_idf, train_data['label'])\n",
    "\n",
    "predictions = model.predict(test_tf_idf)\n",
    "\n",
    "accuracy = accuracy_score(test_data['label'], predictions)\n",
    "\n",
    "print(accuracy)"
   ]
  }
 ],
 "metadata": {
  "kernelspec": {
   "display_name": ".venv",
   "language": "python",
   "name": "python3"
  },
  "language_info": {
   "codemirror_mode": {
    "name": "ipython",
    "version": 3
   },
   "file_extension": ".py",
   "mimetype": "text/x-python",
   "name": "python",
   "nbconvert_exporter": "python",
   "pygments_lexer": "ipython3",
   "version": "3.12.1"
  }
 },
 "nbformat": 4,
 "nbformat_minor": 2
}
